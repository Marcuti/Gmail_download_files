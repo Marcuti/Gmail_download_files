{
 "cells": [
  {
   "cell_type": "code",
   "execution_count": 6,
   "id": "45b99d79",
   "metadata": {},
   "outputs": [],
   "source": [
    "from imap_tools import MailBox, AND\n",
    "username = \"seu email\"\n",
    "password = \"sua senha\"\n",
    "meu_email = MailBox('imap.gmail.com').login (username, password)"
   ]
  },
  {
   "cell_type": "code",
   "execution_count": null,
   "id": "f9f2d603",
   "metadata": {},
   "outputs": [],
   "source": [
    "lista_emails = meu_email.fetch(AND(from_=\"remetente\", to =\"destinatário\"))\n",
    "for email in lista_emails:\n",
    "    print(email.subject)\n",
    "    print(email.text)"
   ]
  },
  {
   "cell_type": "code",
   "execution_count": null,
   "id": "3fbe60c0",
   "metadata": {
    "scrolled": true
   },
   "outputs": [],
   "source": [
    "lista_emails = meu_email.fetch(AND(from_=\"seu email\"))\n",
    "\n",
    "for email in lista_emails:\n",
    "    if len(email.attachments) > 0:\n",
    "        for anexo in email.attachments:\n",
    "            if \"nome do email\" in anexo.filename:\n",
    "                print(anexo.content_type)\n",
    "                print(anexo.payload)\n",
    "                with open(\"teste.xlsx\", 'wb') as arquivo_excel:\n",
    "                    arquivo_excel.write(anexo.payload)\n",
    "    else:\n",
    "        print(\"Este e-mail não possui anexos.\")\n"
   ]
  }
 ],
 "metadata": {
  "kernelspec": {
   "display_name": "Python 3 (ipykernel)",
   "language": "python",
   "name": "python3"
  },
  "language_info": {
   "codemirror_mode": {
    "name": "ipython",
    "version": 3
   },
   "file_extension": ".py",
   "mimetype": "text/x-python",
   "name": "python",
   "nbconvert_exporter": "python",
   "pygments_lexer": "ipython3",
   "version": "3.11.5"
  }
 },
 "nbformat": 4,
 "nbformat_minor": 5
}
